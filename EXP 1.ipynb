{
 "cells": [
  {
   "cell_type": "code",
   "execution_count": 1,
   "id": "3d1dcb44",
   "metadata": {},
   "outputs": [
    {
     "name": "stdout",
     "output_type": "stream",
     "text": [
      "    Name  Age           City  Salary\n",
      "0  Frank   27  San Francisco  110000\n",
      "1  Grace   32        Seattle  120000\n",
      "2  Henry   39          Miami  130000\n",
      "3    Ivy   44         Dallas  140000\n",
      "4   Jack   49        Atlanta  150000\n",
      "5  Kelly   54   Philadelphia  160000\n",
      "6   Liam   59         Denver  170000\n",
      "7    Mia   64        Phoenix  180000\n"
     ]
    }
   ],
   "source": [
    "import pandas as pd\n",
    "\n",
    "data = {\n",
    "    'Name': ['Frank', 'Grace', 'Henry', 'Ivy', 'Jack', 'Kelly', 'Liam', 'Mia'],\n",
    "    'Age': [27, 32, 39, 44, 49, 54, 59, 64],\n",
    "    'City': ['San Francisco', 'Seattle', 'Miami', 'Dallas', 'Atlanta', 'Philadelphia', 'Denver', 'Phoenix'],\n",
    "    'Salary': [110000, 120000, 130000, 140000, 150000, 160000, 170000, 180000]\n",
    "}\n",
    "\n",
    "df = pd.DataFrame(data)\n",
    "\n",
    "print(df)\n"
   ]
  },
  {
   "cell_type": "markdown",
   "id": "89b5556c",
   "metadata": {},
   "source": [
    "series"
   ]
  },
  {
   "cell_type": "code",
   "execution_count": 2,
   "id": "61b05ee1",
   "metadata": {},
   "outputs": [
    {
     "name": "stdout",
     "output_type": "stream",
     "text": [
      "Name Series:\n",
      "0    Frank\n",
      "1    Grace\n",
      "2    Henry\n",
      "3      Ivy\n",
      "4     Jack\n",
      "5    Kelly\n",
      "6     Liam\n",
      "7      Mia\n",
      "Name: Name, dtype: object\n"
     ]
    }
   ],
   "source": [
    "name_series = df['Name']\n",
    "print(\"Name Series:\")\n",
    "print(name_series)"
   ]
  },
  {
   "cell_type": "markdown",
   "id": "ee389f67",
   "metadata": {},
   "source": [
    "index"
   ]
  },
  {
   "cell_type": "code",
   "execution_count": 3,
   "id": "a18ff711",
   "metadata": {},
   "outputs": [
    {
     "name": "stdout",
     "output_type": "stream",
     "text": [
      "7\n"
     ]
    }
   ],
   "source": [
    "import pandas as pd\n",
    "\n",
    "a = [1, 7, 2]\n",
    "\n",
    "myvar = pd.Series(a, index = [\"x\", \"y\", \"z\"])\n",
    "\n",
    "print(myvar[\"y\"])"
   ]
  },
  {
   "cell_type": "markdown",
   "id": "9d794a20",
   "metadata": {},
   "source": [
    "key/value object as series"
   ]
  },
  {
   "cell_type": "code",
   "execution_count": 4,
   "id": "fd4ebadd",
   "metadata": {},
   "outputs": [
    {
     "name": "stdout",
     "output_type": "stream",
     "text": [
      "Key/Value Objects as Series:\n",
      "A    1\n",
      "B    2\n",
      "C    3\n",
      "D    4\n",
      "E    5\n",
      "dtype: int64\n"
     ]
    }
   ],
   "source": [
    "key_value_series = pd.Series({'A': 1, 'B': 2, 'C': 3, 'D': 4, 'E': 5})\n",
    "print(\"Key/Value Objects as Series:\")\n",
    "print(key_value_series)"
   ]
  },
  {
   "cell_type": "markdown",
   "id": "ce3d7805",
   "metadata": {},
   "source": [
    "locate row"
   ]
  },
  {
   "cell_type": "code",
   "execution_count": 5,
   "id": "362a3325",
   "metadata": {},
   "outputs": [
    {
     "name": "stdout",
     "output_type": "stream",
     "text": [
      "Row with index label 2:\n",
      "Name       Henry\n",
      "Age           39\n",
      "City       Miami\n",
      "Salary    130000\n",
      "Name: 2, dtype: object\n"
     ]
    }
   ],
   "source": [
    "row_2 = df.loc[2]\n",
    "print(\"Row with index label 2:\")\n",
    "print(row_2)"
   ]
  },
  {
   "cell_type": "markdown",
   "id": "15870ab2",
   "metadata": {},
   "source": [
    "Name index"
   ]
  },
  {
   "cell_type": "code",
   "execution_count": 8,
   "id": "a268d6ff",
   "metadata": {},
   "outputs": [
    {
     "name": "stdout",
     "output_type": "stream",
     "text": [
      "DataFrame with Named Indexes:\n",
      "        Name  Age           City  Salary\n",
      "Index                                   \n",
      "d1     Frank   27  San Francisco  110000\n",
      "d2     Grace   32        Seattle  120000\n",
      "d3     Henry   39          Miami  130000\n",
      "d4       Ivy   44         Dallas  140000\n",
      "d5      Jack   49        Atlanta  150000\n",
      "d6     Kelly   54   Philadelphia  160000\n",
      "d7      Liam   59         Denver  170000\n",
      "d8       Mia   64        Phoenix  180000\n"
     ]
    }
   ],
   "source": [
    "# Assign a new index to the DataFrame and name it\n",
    "df.index = ['d1', 'd2', 'd3', 'd4', 'd5','d6','d7','d8']\n",
    "df.index.name = 'Index'\n",
    "\n",
    "print(\"DataFrame with Named Indexes:\")\n",
    "print(df)\n"
   ]
  },
  {
   "cell_type": "markdown",
   "id": "037972ac",
   "metadata": {},
   "source": [
    "Analyzing data"
   ]
  },
  {
   "cell_type": "code",
   "execution_count": 9,
   "id": "3f461664",
   "metadata": {},
   "outputs": [
    {
     "name": "stdout",
     "output_type": "stream",
     "text": [
      "First few rows:\n",
      "        Name  Age           City  Salary\n",
      "Index                                   \n",
      "d1     Frank   27  San Francisco  110000\n",
      "d2     Grace   32        Seattle  120000\n",
      "d3     Henry   39          Miami  130000\n",
      "d4       Ivy   44         Dallas  140000\n",
      "d5      Jack   49        Atlanta  150000\n"
     ]
    }
   ],
   "source": [
    "print(\"First few rows:\")\n",
    "print(df.head())"
   ]
  },
  {
   "cell_type": "code",
   "execution_count": 10,
   "id": "6d10d070",
   "metadata": {},
   "outputs": [
    {
     "name": "stdout",
     "output_type": "stream",
     "text": [
      "Last few rows:\n",
      "        Name  Age          City  Salary\n",
      "Index                                  \n",
      "d4       Ivy   44        Dallas  140000\n",
      "d5      Jack   49       Atlanta  150000\n",
      "d6     Kelly   54  Philadelphia  160000\n",
      "d7      Liam   59        Denver  170000\n",
      "d8       Mia   64       Phoenix  180000\n"
     ]
    }
   ],
   "source": [
    "print(\"Last few rows:\")\n",
    "print(df.tail())"
   ]
  },
  {
   "cell_type": "code",
   "execution_count": 11,
   "id": "44f94f98",
   "metadata": {},
   "outputs": [
    {
     "name": "stdout",
     "output_type": "stream",
     "text": [
      "DataFrame information:\n",
      "<class 'pandas.core.frame.DataFrame'>\n",
      "Index: 8 entries, d1 to d8\n",
      "Data columns (total 4 columns):\n",
      " #   Column  Non-Null Count  Dtype \n",
      "---  ------  --------------  ----- \n",
      " 0   Name    8 non-null      object\n",
      " 1   Age     8 non-null      int64 \n",
      " 2   City    8 non-null      object\n",
      " 3   Salary  8 non-null      int64 \n",
      "dtypes: int64(2), object(2)\n",
      "memory usage: 320.0+ bytes\n",
      "None\n"
     ]
    }
   ],
   "source": [
    "print(\"DataFrame information:\")\n",
    "print(df.info())"
   ]
  },
  {
   "cell_type": "markdown",
   "id": "787951ee",
   "metadata": {},
   "source": [
    "empty cells"
   ]
  },
  {
   "cell_type": "code",
   "execution_count": 12,
   "id": "70434fac",
   "metadata": {},
   "outputs": [
    {
     "name": "stdout",
     "output_type": "stream",
     "text": [
      "Empty cells:\n",
      "Name      0\n",
      "Age       0\n",
      "City      0\n",
      "Salary    0\n",
      "dtype: int64\n"
     ]
    }
   ],
   "source": [
    "empty_cells = df.isna().sum()\n",
    "print(\"Empty cells:\")\n",
    "print(empty_cells)"
   ]
  },
  {
   "cell_type": "code",
   "execution_count": 17,
   "id": "b4fd3e94",
   "metadata": {},
   "outputs": [
    {
     "name": "stdout",
     "output_type": "stream",
     "text": [
      "        Name   Age           City  Salary\n",
      "Index                                    \n",
      "d1     Frank  27.0  San Francisco  110000\n",
      "d2     Grace  32.0        Seattle  120000\n",
      "d3     Henry  39.0          Miami  130000\n",
      "d4       Ivy  44.0         Dallas  140000\n",
      "d5      Jack  49.0        Atlanta  150000\n",
      "d6     Kelly  54.0   Philadelphia  160000\n",
      "d7      Liam  59.0         Denver  170000\n",
      "d8       Mia  64.0        Phoenix  180000\n"
     ]
    }
   ],
   "source": [
    "# Convert 'Age' column to float (example of handling wrong data format)\n",
    "df['Age'] = df['Age'].astype(float)\n",
    "\n",
    "# Handling wrong data (for example, replacing negative salaries with NaN)\n",
    "df['Salary'] = df['Salary'].apply(lambda x: x if x > 0 else None)\n",
    "\n",
    "# Removing duplicates (if any)\n",
    "df.drop_duplicates(inplace=True)\n",
    "print(df)"
   ]
  },
  {
   "cell_type": "markdown",
   "id": "1155d6de",
   "metadata": {},
   "source": [
    "NumPy"
   ]
  },
  {
   "cell_type": "code",
   "execution_count": 21,
   "id": "48e162e6",
   "metadata": {},
   "outputs": [
    {
     "name": "stdout",
     "output_type": "stream",
     "text": [
      "Addition:\n",
      "[[ 6  8]\n",
      " [10 12]]\n",
      "\n",
      "Subtraction:\n",
      "[[-4 -4]\n",
      " [-4 -4]]\n",
      "\n",
      "Multiplication:\n",
      "[[ 5 12]\n",
      " [21 32]]\n",
      "\n",
      "Division:\n",
      "[[0.2        0.33333333]\n",
      " [0.42857143 0.5       ]]\n",
      "\n",
      "Result after broadcasting:\n",
      "[[ 6  8]\n",
      " [10 12]]\n",
      "\n",
      "Maximum value: 4\n",
      "Minimum value: 1\n",
      "Mean: 2.5\n",
      "Sum: 10\n"
     ]
    }
   ],
   "source": [
    "import numpy as np\n",
    "\n",
    "# Create two arrays\n",
    "arr1 = np.array([[1, 2], [3, 4]])\n",
    "arr2 = np.array([[5, 6], [7, 8]])\n",
    "\n",
    "# Addition\n",
    "print(\"Addition:\")\n",
    "print(arr1 + arr2)\n",
    "\n",
    "# Subtraction\n",
    "print(\"\\nSubtraction:\")\n",
    "print(arr1 - arr2)\n",
    "\n",
    "# Multiplication\n",
    "print(\"\\nMultiplication:\")\n",
    "print(arr1 * arr2)\n",
    "\n",
    "# Division\n",
    "print(\"\\nDivision:\")\n",
    "print(arr1 / arr2)\n",
    "\n",
    "result = arr1 + arr2\n",
    "print(\"\\nResult after broadcasting:\")\n",
    "print(result)\n",
    "\n",
    "# Compute maximum\n",
    "max_value = np.max(arr1)\n",
    "\n",
    "# Compute minimum\n",
    "min_value = np.min(arr1)\n",
    "\n",
    "# Compute mean\n",
    "mean_value = np.mean(arr1)\n",
    "\n",
    "# Compute sum\n",
    "sum_value = np.sum(arr1)\n",
    "\n",
    "print(\"\\nMaximum value:\", max_value)\n",
    "print(\"Minimum value:\", min_value)\n",
    "print(\"Mean:\", mean_value)\n",
    "print(\"Sum:\", sum_value)\n"
   ]
  },
  {
   "cell_type": "markdown",
   "id": "989a0cf7",
   "metadata": {},
   "source": [
    "SciPy"
   ]
  },
  {
   "cell_type": "code",
   "execution_count": 22,
   "id": "57317c7c",
   "metadata": {},
   "outputs": [
    {
     "name": "stdout",
     "output_type": "stream",
     "text": [
      "T-statistic: -1.0\n",
      "P-value: 0.34659350708733416\n"
     ]
    }
   ],
   "source": [
    "from scipy.stats import ttest_ind\n",
    "\n",
    "# Sample data\n",
    "group1 = np.array([1, 2, 3, 4, 5])\n",
    "group2 = np.array([2, 3, 4, 5, 6])\n",
    "\n",
    "# Perform t-test\n",
    "t_statistic, p_value = ttest_ind(group1, group2)\n",
    "\n",
    "print(\"T-statistic:\", t_statistic)\n",
    "print(\"P-value:\", p_value)\n"
   ]
  },
  {
   "cell_type": "code",
   "execution_count": 23,
   "id": "25f8eb06",
   "metadata": {},
   "outputs": [
    {
     "name": "stdout",
     "output_type": "stream",
     "text": [
      "Pearson Correlation Coefficient: 0.9\n"
     ]
    }
   ],
   "source": [
    "from scipy.stats import pearsonr\n",
    "\n",
    "# Sample data\n",
    "x = np.array([1, 2, 3, 4, 5])\n",
    "y = np.array([2, 3, 5, 4, 6])\n",
    "\n",
    "# Compute Pearson correlation coefficient\n",
    "corr_coeff, p_value = pearsonr(x, y)\n",
    "\n",
    "print(\"Pearson Correlation Coefficient:\", corr_coeff)\n"
   ]
  },
  {
   "cell_type": "code",
   "execution_count": null,
   "id": "f918eb47",
   "metadata": {},
   "outputs": [],
   "source": []
  }
 ],
 "metadata": {
  "kernelspec": {
   "display_name": "Python 3 (ipykernel)",
   "language": "python",
   "name": "python3"
  },
  "language_info": {
   "codemirror_mode": {
    "name": "ipython",
    "version": 3
   },
   "file_extension": ".py",
   "mimetype": "text/x-python",
   "name": "python",
   "nbconvert_exporter": "python",
   "pygments_lexer": "ipython3",
   "version": "3.10.7"
  }
 },
 "nbformat": 4,
 "nbformat_minor": 5
}
